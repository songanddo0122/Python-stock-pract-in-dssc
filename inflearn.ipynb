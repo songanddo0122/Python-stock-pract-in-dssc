{
  "nbformat": 4,
  "nbformat_minor": 0,
  "metadata": {
    "colab": {
      "name": "inflearn",
      "provenance": [],
      "collapsed_sections": [],
      "authorship_tag": "ABX9TyNksRjTeWHleyBXe/XUcjR7",
      "include_colab_link": true
    },
    "kernelspec": {
      "name": "python3",
      "display_name": "Python 3"
    }
  },
  "cells": [
    {
      "cell_type": "markdown",
      "metadata": {
        "id": "view-in-github",
        "colab_type": "text"
      },
      "source": [
        "<a href=\"https://colab.research.google.com/github/songanddo0122/Python-stock-pract-in-dssc/blob/master/inflearn.ipynb\" target=\"_parent\"><img src=\"https://colab.research.google.com/assets/colab-badge.svg\" alt=\"Open In Colab\"/></a>"
      ]
    },
    {
      "cell_type": "code",
      "metadata": {
        "id": "Kf7A2fUriYJl",
        "colab_type": "code",
        "colab": {
          "base_uri": "https://localhost:8080/",
          "height": 197
        },
        "outputId": "ac775ad1-57bb-4042-f4c1-018e933c692e"
      },
      "source": [
        "from bs4 import BeautifulSoup as bs\n",
        "import requests\n",
        "import time\n",
        "\n",
        "html = requests.get(\"https://finance.naver.com/item/main.nhn?code=032350\")\n",
        "#strptime() : 문자열을 날짜/시간으로 변환\n",
        "#mktime() : 일시를 초 단위 시간으로 변환\n",
        "date = requests.get(\"https://finance.naver.com/item/main.nhn?code=032350\").headers['Date'] # 현재 시점 시각\n",
        "#time = int(time.mktime(time.strptime(date, \"%a, %d %b %Y %H:%M:%S %Z\")))\n",
        "\n",
        "soup = bs(html.text, \"html.parser\")\n",
        "\n",
        "data1 = soup.find(\"div\",{\"class\":\"rate_info\"}) # 기본 영역\n",
        "data2 = data1.find(\"dt\").text # 종목명\n",
        "data3 = data1.find(\"span\",{\"class\":\"blind\"}).text # 현재가격\n",
        "\n",
        "data_yester1 = data1.find(\"td\",{\"class\":\"first\"}).text #전일가격 영역\n",
        "data_yester2 = data_yester1.find(\"em\")\n",
        "\n",
        "data_cmp = soup.find(\"p\",{\"class\":\"no_exday\"}) # 전일시세 비교 기본 영역\n",
        "\n",
        "data_cmp_up1 = soup.find(\"em\",{\"class\":\"no_up\"}).text\n",
        "\n",
        "\n",
        "\n",
        "#print (time.strftime('%y-%m-%d %H:%M:%S'))\n",
        "\n",
        "print(\"기준시각\\n\", date, sep='')\n",
        "print(\"\\n\",data2, sep='')\n",
        "print(\"전일가 :\",data_yester2)\n",
        "print(\"현재가:\",data3)\n",
        "\n",
        "print(data_cmp_up1)\n",
        "\n",
        "\n"
      ],
      "execution_count": 1,
      "outputs": [
        {
          "output_type": "stream",
          "text": [
            "기준시각\n",
            "Thu, 30 Jul 2020 03:11:22 GMT\n",
            "\n",
            "롯데관광개발\n",
            "전일가 : -1\n",
            "현재가: 16,400\n",
            "\n",
            "16,400\n",
            "16,400\n",
            "\n"
          ],
          "name": "stdout"
        }
      ]
    },
    {
      "cell_type": "code",
      "metadata": {
        "id": "OO8v7_PDtcQO",
        "colab_type": "code",
        "colab": {}
      },
      "source": [
        ""
      ],
      "execution_count": null,
      "outputs": []
    }
  ]
}